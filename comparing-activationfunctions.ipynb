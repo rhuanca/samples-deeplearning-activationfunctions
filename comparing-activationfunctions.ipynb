{
 "cells": [
  {
   "cell_type": "code",
   "execution_count": 8,
   "metadata": {},
   "outputs": [],
   "source": [
    "import wget\n",
    "import os"
   ]
  },
  {
   "cell_type": "code",
   "execution_count": 10,
   "metadata": {},
   "outputs": [],
   "source": [
    "download_dir = \"downloaded\""
   ]
  },
  {
   "cell_type": "code",
   "execution_count": 11,
   "metadata": {},
   "outputs": [
    {
     "data": {
      "text/plain": [
       "'downloaded/t10k-labels-idx1-ubyte.gz'"
      ]
     },
     "execution_count": 11,
     "metadata": {},
     "output_type": "execute_result"
    }
   ],
   "source": [
    "# downloading mnist dataset\n",
    "os.makedirs(downloaded_dir)\n",
    "wget.download(\"http://yann.lecun.com/exdb/mnist/train-images-idx3-ubyte.gz\", out=downloaded_dir)\n",
    "wget.download(\"http://yann.lecun.com/exdb/mnist/train-labels-idx1-ubyte.gz\", out=downloaded_dir)\n",
    "wget.download(\"http://yann.lecun.com/exdb/mnist/t10k-images-idx3-ubyte.gz\", out=downloaded_dir)\n",
    "wget.download(\"http://yann.lecun.com/exdb/mnist/t10k-labels-idx1-ubyte.gz\", out=downloaded_dir)"
   ]
  },
  {
   "cell_type": "code",
   "execution_count": null,
   "metadata": {},
   "outputs": [],
   "source": [
    "#unzip data\n"
   ]
  }
 ],
 "metadata": {
  "kernelspec": {
   "display_name": "Python 3",
   "language": "python",
   "name": "python3"
  },
  "language_info": {
   "codemirror_mode": {
    "name": "ipython",
    "version": 3
   },
   "file_extension": ".py",
   "mimetype": "text/x-python",
   "name": "python",
   "nbconvert_exporter": "python",
   "pygments_lexer": "ipython3",
   "version": "3.6.7"
  }
 },
 "nbformat": 4,
 "nbformat_minor": 2
}
