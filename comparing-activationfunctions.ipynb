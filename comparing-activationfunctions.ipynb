{
 "cells": [
  {
   "cell_type": "code",
   "execution_count": 1,
   "metadata": {},
   "outputs": [],
   "source": [
    "import mnistutils # custom library"
   ]
  },
  {
   "cell_type": "code",
   "execution_count": 2,
   "metadata": {},
   "outputs": [
    {
     "name": "stdout",
     "output_type": "stream",
     "text": [
      "{'train_images': 'train-images-idx3-ubyte', 'train_labels': 'train-labels-idx1-ubyte', 'validation_images': 't10k-images-idx3-ubyte', 'validation_labels': 't10k-labels-idx1-ubyte'}\n"
     ]
    }
   ],
   "source": [
    "filenames = mnistutils.mnist_download(\"data\")\n",
    "print(filenames)"
   ]
  },
  {
   "cell_type": "code",
   "execution_count": 38,
   "metadata": {},
   "outputs": [
    {
     "name": "stdout",
     "output_type": "stream",
     "text": [
      "60000\n",
      "10000\n"
     ]
    }
   ],
   "source": [
    "training_data = list(mnistutils.read(dataset=\"training\", path=\"data\"))\n",
    "print(len(training_data))\n",
    "testing_data = list(mnistutils.read(dataset=\"testing\", path=\"data\"))\n",
    "print(len(testing_data))"
   ]
  },
  {
   "cell_type": "code",
   "execution_count": 107,
   "metadata": {},
   "outputs": [
    {
     "name": "stdout",
     "output_type": "stream",
     "text": [
      "5\n",
      "(28, 28)\n"
     ]
    },
    {
     "data": {
      "image/png": "[encoded data removed]",
      "text/plain": [
       "<Figure size 432x288 with 1 Axes>"
      ]
     },
     "metadata": {
      "needs_background": "light"
     },
     "output_type": "display_data"
    }
   ],
   "source": [
    "# printing fisrt element of dataset\n",
    "label, pixels = training_data[0]\n",
    "print(label)\n",
    "print(pixels.shape)\n",
    "mnistutils.show(pixels)"
   ]
  },
  {
   "cell_type": "code",
   "execution_count": 14,
   "metadata": {},
   "outputs": [
    {
     "name": "stdout",
     "output_type": "stream",
     "text": [
      "3\n"
     ]
    },
    {
     "data": {
      "image/png": "[encoded data removed]",
      "text/plain": [
       "<Figure size 432x288 with 1 Axes>"
      ]
     },
     "metadata": {
      "needs_background": "light"
     },
     "output_type": "display_data"
    },
    {
     "name": "stdout",
     "output_type": "stream",
     "text": [
      "7\n"
     ]
    },
    {
     "data": {
      "image/png": "[encoded data removed]",
      "text/plain": [
       "<Figure size 432x288 with 1 Axes>"
      ]
     },
     "metadata": {
      "needs_background": "light"
     },
     "output_type": "display_data"
    }
   ],
   "source": [
    "# printing another two elements\n",
    "print(training_data[10][0])\n",
    "mnistutils.show(training_data[10][1])\n",
    "print(training_data[101][0])\n",
    "mnistutils.show(training_data[101][1])"
   ]
  },
  {
   "cell_type": "code",
   "execution_count": 114,
   "metadata": {},
   "outputs": [
    {
     "name": "stdout",
     "output_type": "stream",
     "text": [
      "(60000, 784)\n",
      "(60000, 10)\n",
      "(10000, 784)\n",
      "(10000, 10)\n"
     ]
    }
   ],
   "source": [
    "import numpy as np\n",
    "\n",
    "num_classes = 10\n",
    "\n",
    "# Preparing training and validation data\n",
    "train_images = []\n",
    "train_labels = []\n",
    "\n",
    "for i in range(0, len(training_data)):\n",
    "    train_images.append(training_data[i][1])\n",
    "    train_labels.append(training_data[i][0])\n",
    "\n",
    "# convert list to array\n",
    "train_images = np.asarray(train_images);\n",
    "train_labels = np.asarray(train_labels);\n",
    "\n",
    "# reshaping so we can match model's input size\n",
    "train_images = train_images.reshape(60000, 784)\n",
    "train_images = train_images.astype('float32') / 255\n",
    "train_labels = keras.utils.to_categorical(train_labels, num_classes)\n",
    "\n",
    "print(train_images.shape)\n",
    "print(train_labels.shape)\n",
    "\n",
    "validation_images = []\n",
    "validation_labels = []\n",
    "\n",
    "for i in range(0, len(testing_data)):\n",
    "    validation_images.append(testing_data[i][1])\n",
    "    validation_labels.append(testing_data[i][0])\n",
    "\n",
    "# convert list to array\n",
    "validation_images = np.asarray(validation_images);\n",
    "validation_labels = np.asarray(validation_labels);\n",
    "\n",
    "# reshaping so we can match model's input size\n",
    "validation_images = validation_images.reshape(10000, 784)\n",
    "validation_images = validation_images.astype('float32') / 255\n",
    "validation_labels = keras.utils.to_categorical(validation_labels, num_classes)\n",
    "\n",
    "print(validation_images.shape)\n",
    "print(validation_labels.shape)"
   ]
  },
  {
   "cell_type": "code",
   "execution_count": 119,
   "metadata": {},
   "outputs": [
    {
     "name": "stdout",
     "output_type": "stream",
     "text": [
      "dense_100 (None, 784) ==> (None, 512)\n",
      "dense_101 (None, 512) ==> (None, 10)\n",
      "_________________________________________________________________\n",
      "Layer (type)                 Output Shape              Param #   \n",
      "=================================================================\n",
      "dense_100 (Dense)            (None, 512)               401920    \n",
      "_________________________________________________________________\n",
      "dense_101 (Dense)            (None, 10)                5130      \n",
      "=================================================================\n",
      "Total params: 407,050\n",
      "Trainable params: 407,050\n",
      "Non-trainable params: 0\n",
      "_________________________________________________________________\n",
      "Train on 60000 samples, validate on 10000 samples\n",
      "Epoch 1/5\n",
      "60000/60000 [==============================] - 5s 75us/step - loss: 0.3823 - acc: 0.8888 - val_loss: 0.3112 - val_acc: 0.9115\n",
      "Epoch 2/5\n",
      "60000/60000 [==============================] - 3s 43us/step - loss: 0.3090 - acc: 0.9142 - val_loss: 0.3074 - val_acc: 0.9099\n",
      "Epoch 3/5\n",
      "60000/60000 [==============================] - 3s 44us/step - loss: 0.2961 - acc: 0.9181 - val_loss: 0.2981 - val_acc: 0.9195\n",
      "Epoch 4/5\n",
      "60000/60000 [==============================] - 3s 43us/step - loss: 0.2879 - acc: 0.9208 - val_loss: 0.2827 - val_acc: 0.9207\n",
      "Epoch 5/5\n",
      "60000/60000 [==============================] - 3s 44us/step - loss: 0.2824 - acc: 0.9209 - val_loss: 0.2851 - val_acc: 0.9236\n",
      "Test loss: 0.285\n",
      "Test accuracy: 0.924\n"
     ]
    },
    {
     "data": {
      "text/plain": [
       "<matplotlib.legend.Legend at 0x7f5cdf1be240>"
      ]
     },
     "execution_count": 119,
     "metadata": {},
     "output_type": "execute_result"
    },
    {
     "data": {
      "image/png": "[encoded data removed]",
      "text/plain": [
       "<Figure size 432x288 with 1 Axes>"
      ]
     },
     "metadata": {
      "needs_background": "light"
     },
     "output_type": "display_data"
    }
   ],
   "source": [
    "import keras\n",
    "\n",
    "from keras.models import Sequential\n",
    "from keras.layers import Dense, Dropout\n",
    "\n",
    "from keras.optimizers import RMSprop\n",
    "import matplotlib.pyplot as plt\n",
    "from numpy.random import seed\n",
    "\n",
    "seed(1)\n",
    "\n",
    "model = Sequential()\n",
    "model.add(Dense(512, input_shape=(784,)))\n",
    "model.add(Dense(10, activation='softmax'))\n",
    "\n",
    "for l in model.layers:\n",
    "    print (l.name, l.input_shape,'==>',l.output_shape)\n",
    "\n",
    "model.summary()\n",
    "\n",
    "# Case 1 - No Activation Function\n",
    "batch_size = 128\n",
    "epochs = 5\n",
    "\n",
    "model.compile(loss='categorical_crossentropy',\n",
    "              optimizer=RMSprop(),\n",
    "              metrics=['accuracy'])\n",
    "    \n",
    "history = model.fit(train_images, train_labels,\n",
    "                    batch_size=batch_size,\n",
    "                    epochs=epochs,\n",
    "                    verbose=1,\n",
    "                    validation_data=(validation_images, validation_labels)\n",
    "                   )\n",
    "\n",
    "score = model.evaluate(validation_images, validation_labels, verbose=100)\n",
    "\n",
    "\n",
    "print('Test loss:', round(score[0], 3))\n",
    "print('Test accuracy:', round(score[1], 3))\n",
    "plt.plot(history.history['loss'])\n",
    "plt.plot(history.history['val_loss'])\n",
    "plt.title('model loss')\n",
    "plt.ylabel('loss')\n",
    "plt.xlabel('epoch')\n",
    "plt.legend(['train', 'test'], loc='upper left')\n"
   ]
  },
  {
   "cell_type": "code",
   "execution_count": 122,
   "metadata": {},
   "outputs": [
    {
     "name": "stdout",
     "output_type": "stream",
     "text": [
      "dense_106 (None, 784) ==> (None, 512)\n",
      "dense_107 (None, 512) ==> (None, 10)\n",
      "_________________________________________________________________\n",
      "Layer (type)                 Output Shape              Param #   \n",
      "=================================================================\n",
      "dense_106 (Dense)            (None, 512)               401920    \n",
      "_________________________________________________________________\n",
      "dense_107 (Dense)            (None, 10)                5130      \n",
      "=================================================================\n",
      "Total params: 407,050\n",
      "Trainable params: 407,050\n",
      "Non-trainable params: 0\n",
      "_________________________________________________________________\n",
      "Train on 60000 samples, validate on 10000 samples\n",
      "Epoch 1/5\n",
      "60000/60000 [==============================] - 5s 79us/step - loss: 0.4239 - acc: 0.8837 - val_loss: 0.2741 - val_acc: 0.9186\n",
      "Epoch 2/5\n",
      "60000/60000 [==============================] - 3s 45us/step - loss: 0.2352 - acc: 0.9312 - val_loss: 0.2053 - val_acc: 0.9357\n",
      "Epoch 3/5\n",
      "60000/60000 [==============================] - 3s 45us/step - loss: 0.1787 - acc: 0.9481 - val_loss: 0.1641 - val_acc: 0.9493\n",
      "Epoch 4/5\n",
      "60000/60000 [==============================] - 3s 46us/step - loss: 0.1399 - acc: 0.9590 - val_loss: 0.1320 - val_acc: 0.9601\n",
      "Epoch 5/5\n",
      "60000/60000 [==============================] - 3s 46us/step - loss: 0.1126 - acc: 0.9672 - val_loss: 0.1103 - val_acc: 0.9663\n",
      "Test loss: 0.11\n",
      "Test accuracy: 0.966\n"
     ]
    },
    {
     "data": {
      "text/plain": [
       "<matplotlib.legend.Legend at 0x7f5cde811898>"
      ]
     },
     "execution_count": 122,
     "metadata": {},
     "output_type": "execute_result"
    },
    {
     "data": {
      "image/png": "[encoded data removed]",
      "text/plain": [
       "<Figure size 432x288 with 1 Axes>"
      ]
     },
     "metadata": {
      "needs_background": "light"
     },
     "output_type": "display_data"
    }
   ],
   "source": [
    "import keras\n",
    "\n",
    "from keras.models import Sequential\n",
    "from keras.layers import Dense, Dropout\n",
    "\n",
    "from keras.optimizers import RMSprop\n",
    "import matplotlib.pyplot as plt\n",
    "\n",
    "from numpy.random import seed\n",
    "\n",
    "seed(1)\n",
    "\n",
    "model = Sequential()\n",
    "model.add(Dense(512, activation='sigmoid', input_shape=(784,)))\n",
    "model.add(Dense(10, activation='softmax'))\n",
    "\n",
    "for l in model.layers:\n",
    "    print (l.name, l.input_shape,'==>',l.output_shape)\n",
    "\n",
    "model.summary()\n",
    "\n",
    "# Case 1 - No Activation Function\n",
    "batch_size = 128\n",
    "epochs = 5\n",
    "\n",
    "model.compile(loss='categorical_crossentropy',\n",
    "              optimizer=RMSprop(),\n",
    "              metrics=['accuracy'])\n",
    "    \n",
    "history = model.fit(train_images, train_labels,\n",
    "                    batch_size=batch_size,\n",
    "                    epochs=epochs,\n",
    "                    verbose=1,\n",
    "                    validation_data=(validation_images, validation_labels)\n",
    "                   )\n",
    "\n",
    "score = model.evaluate(validation_images, validation_labels, verbose=100)\n",
    "\n",
    "\n",
    "print('Test loss:', round(score[0], 3))\n",
    "print('Test accuracy:', round(score[1], 3))\n",
    "plt.plot(history.history['loss'])\n",
    "plt.plot(history.history['val_loss'])\n",
    "plt.title('model loss')\n",
    "plt.ylabel('loss')\n",
    "plt.xlabel('epoch')\n",
    "plt.legend(['train', 'test'], loc='upper left')\n"
   ]
  },
  {
   "cell_type": "code",
   "execution_count": 123,
   "metadata": {},
   "outputs": [
    {
     "name": "stdout",
     "output_type": "stream",
     "text": [
      "dense_108 (None, 784) ==> (None, 512)\n",
      "dense_109 (None, 512) ==> (None, 10)\n",
      "_________________________________________________________________\n",
      "Layer (type)                 Output Shape              Param #   \n",
      "=================================================================\n",
      "dense_108 (Dense)            (None, 512)               401920    \n",
      "_________________________________________________________________\n",
      "dense_109 (Dense)            (None, 10)                5130      \n",
      "=================================================================\n",
      "Total params: 407,050\n",
      "Trainable params: 407,050\n",
      "Non-trainable params: 0\n",
      "_________________________________________________________________\n",
      "Train on 60000 samples, validate on 10000 samples\n",
      "Epoch 1/5\n",
      "60000/60000 [==============================] - 5s 80us/step - loss: 0.3333 - acc: 0.9020 - val_loss: 0.2224 - val_acc: 0.9334\n",
      "Epoch 2/5\n",
      "60000/60000 [==============================] - 3s 51us/step - loss: 0.1750 - acc: 0.9490 - val_loss: 0.1419 - val_acc: 0.9565\n",
      "Epoch 3/5\n",
      "60000/60000 [==============================] - 3s 51us/step - loss: 0.1169 - acc: 0.9659 - val_loss: 0.1189 - val_acc: 0.9648\n",
      "Epoch 4/5\n",
      "60000/60000 [==============================] - 3s 51us/step - loss: 0.0850 - acc: 0.9749 - val_loss: 0.0933 - val_acc: 0.9727\n",
      "Epoch 5/5\n",
      "60000/60000 [==============================] - 3s 51us/step - loss: 0.0646 - acc: 0.9810 - val_loss: 0.0791 - val_acc: 0.9763\n",
      "Test loss: 0.079\n",
      "Test accuracy: 0.976\n"
     ]
    },
    {
     "data": {
      "text/plain": [
       "<matplotlib.legend.Legend at 0x7f5cde52fb38>"
      ]
     },
     "execution_count": 123,
     "metadata": {},
     "output_type": "execute_result"
    },
    {
     "data": {
      "image/png": "[encoded data removed]",
      "text/plain": [
       "<Figure size 432x288 with 1 Axes>"
      ]
     },
     "metadata": {
      "needs_background": "light"
     },
     "output_type": "display_data"
    }
   ],
   "source": [
    "import keras\n",
    "\n",
    "from keras.models import Sequential\n",
    "from keras.layers import Dense, Dropout\n",
    "\n",
    "from keras.optimizers import RMSprop\n",
    "import matplotlib.pyplot as plt\n",
    "\n",
    "from numpy.random import seed\n",
    "\n",
    "seed(1)\n",
    "\n",
    "model = Sequential()\n",
    "model.add(Dense(512, activation='tanh', input_shape=(784,)))\n",
    "model.add(Dense(10, activation='softmax'))\n",
    "\n",
    "for l in model.layers:\n",
    "    print (l.name, l.input_shape,'==>',l.output_shape)\n",
    "\n",
    "model.summary()\n",
    "\n",
    "# Case 1 - No Activation Function\n",
    "batch_size = 128\n",
    "epochs = 5\n",
    "\n",
    "model.compile(loss='categorical_crossentropy',\n",
    "              optimizer=RMSprop(),\n",
    "              metrics=['accuracy'])\n",
    "    \n",
    "history = model.fit(train_images, train_labels,\n",
    "                    batch_size=batch_size,\n",
    "                    epochs=epochs,\n",
    "                    verbose=1,\n",
    "                    validation_data=(validation_images, validation_labels)\n",
    "                   )\n",
    "\n",
    "score = model.evaluate(validation_images, validation_labels, verbose=100)\n",
    "\n",
    "\n",
    "print('Test loss:', round(score[0], 3))\n",
    "print('Test accuracy:', round(score[1], 3))\n",
    "plt.plot(history.history['loss'])\n",
    "plt.plot(history.history['val_loss'])\n",
    "plt.title('model loss')\n",
    "plt.ylabel('loss')\n",
    "plt.xlabel('epoch')\n",
    "plt.legend(['train', 'test'], loc='upper left')\n"
   ]
  },
  {
   "cell_type": "code",
   "execution_count": 124,
   "metadata": {},
   "outputs": [
    {
     "name": "stdout",
     "output_type": "stream",
     "text": [
      "dense_110 (None, 784) ==> (None, 512)\n",
      "dense_111 (None, 512) ==> (None, 10)\n",
      "_________________________________________________________________\n",
      "Layer (type)                 Output Shape              Param #   \n",
      "=================================================================\n",
      "dense_110 (Dense)            (None, 512)               401920    \n",
      "_________________________________________________________________\n",
      "dense_111 (Dense)            (None, 10)                5130      \n",
      "=================================================================\n",
      "Total params: 407,050\n",
      "Trainable params: 407,050\n",
      "Non-trainable params: 0\n",
      "_________________________________________________________________\n",
      "Train on 60000 samples, validate on 10000 samples\n",
      "Epoch 1/5\n",
      "60000/60000 [==============================] - 5s 84us/step - loss: 0.2565 - acc: 0.9252 - val_loss: 0.1431 - val_acc: 0.9568\n",
      "Epoch 2/5\n",
      "60000/60000 [==============================] - 3s 52us/step - loss: 0.1040 - acc: 0.9694 - val_loss: 0.0850 - val_acc: 0.9735\n",
      "Epoch 3/5\n",
      "60000/60000 [==============================] - 3s 52us/step - loss: 0.0685 - acc: 0.9794 - val_loss: 0.0803 - val_acc: 0.9743\n",
      "Epoch 4/5\n",
      "60000/60000 [==============================] - 3s 51us/step - loss: 0.0496 - acc: 0.9852 - val_loss: 0.0681 - val_acc: 0.9784\n",
      "Epoch 5/5\n",
      "60000/60000 [==============================] - 3s 52us/step - loss: 0.0366 - acc: 0.9892 - val_loss: 0.0663 - val_acc: 0.9810\n",
      "Test loss: 0.066\n",
      "Test accuracy: 0.981\n"
     ]
    },
    {
     "data": {
      "text/plain": [
       "<matplotlib.legend.Legend at 0x7f5cde1d7f98>"
      ]
     },
     "execution_count": 124,
     "metadata": {},
     "output_type": "execute_result"
    },
    {
     "data": {
      "image/png": "[encoded data removed]",
      "text/plain": [
       "<Figure size 432x288 with 1 Axes>"
      ]
     },
     "metadata": {
      "needs_background": "light"
     },
     "output_type": "display_data"
    }
   ],
   "source": [
    "import keras\n",
    "\n",
    "from keras.models import Sequential\n",
    "from keras.layers import Dense, Dropout\n",
    "\n",
    "from keras.optimizers import RMSprop\n",
    "import matplotlib.pyplot as plt\n",
    "\n",
    "from numpy.random import seed\n",
    "\n",
    "seed(1)\n",
    "\n",
    "model = Sequential()\n",
    "model.add(Dense(512, activation='relu', input_shape=(784,)))\n",
    "model.add(Dense(10, activation='softmax'))\n",
    "\n",
    "for l in model.layers:\n",
    "    print (l.name, l.input_shape,'==>',l.output_shape)\n",
    "\n",
    "model.summary()\n",
    "\n",
    "# Case 1 - No Activation Function\n",
    "batch_size = 128\n",
    "epochs = 5\n",
    "\n",
    "model.compile(loss='categorical_crossentropy',\n",
    "              optimizer=RMSprop(),\n",
    "              metrics=['accuracy'])\n",
    "    \n",
    "history = model.fit(train_images, train_labels,\n",
    "                    batch_size=batch_size,\n",
    "                    epochs=epochs,\n",
    "                    verbose=1,\n",
    "                    validation_data=(validation_images, validation_labels)\n",
    "                   )\n",
    "\n",
    "score = model.evaluate(validation_images, validation_labels, verbose=100)\n",
    "\n",
    "\n",
    "print('Test loss:', round(score[0], 3))\n",
    "print('Test accuracy:', round(score[1], 3))\n",
    "plt.plot(history.history['loss'])\n",
    "plt.plot(history.history['val_loss'])\n",
    "plt.title('model loss')\n",
    "plt.ylabel('loss')\n",
    "plt.xlabel('epoch')\n",
    "plt.legend(['train', 'test'], loc='upper left')\n"
   ]
  }
 ],
 "metadata": {
  "kernelspec": {
   "display_name": "Python 3",
   "language": "python",
   "name": "python3"
  },
  "language_info": {
   "codemirror_mode": {
    "name": "ipython",
    "version": 3
   },
   "file_extension": ".py",
   "mimetype": "text/x-python",
   "name": "python",
   "nbconvert_exporter": "python",
   "pygments_lexer": "ipython3",
   "version": "3.6.7"
  }
 },
 "nbformat": 4,
 "nbformat_minor": 2
}
