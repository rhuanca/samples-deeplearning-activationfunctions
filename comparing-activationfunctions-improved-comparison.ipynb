{
 "cells": [
  {
   "cell_type": "code",
   "execution_count": 1,
   "metadata": {},
   "outputs": [],
   "source": [
    "import mnistutils # custom library"
   ]
  },
  {
   "cell_type": "code",
   "execution_count": 2,
   "metadata": {},
   "outputs": [
    {
     "name": "stdout",
     "output_type": "stream",
     "text": [
      "{'train_images': 'train-images-idx3-ubyte', 'train_labels': 'train-labels-idx1-ubyte', 'validation_images': 't10k-images-idx3-ubyte', 'validation_labels': 't10k-labels-idx1-ubyte'}\n"
     ]
    }
   ],
   "source": [
    "filenames = mnistutils.mnist_download(\"data\")\n",
    "print(filenames)"
   ]
  },
  {
   "cell_type": "code",
   "execution_count": 2,
   "metadata": {},
   "outputs": [
    {
     "name": "stdout",
     "output_type": "stream",
     "text": [
      "60000\n",
      "10000\n"
     ]
    }
   ],
   "source": [
    "training_data = list(mnistutils.read(dataset=\"training\", path=\"data\"))\n",
    "print(len(training_data))\n",
    "testing_data = list(mnistutils.read(dataset=\"testing\", path=\"data\"))\n",
    "print(len(testing_data))"
   ]
  },
  {
   "cell_type": "code",
   "execution_count": 3,
   "metadata": {},
   "outputs": [
    {
     "name": "stderr",
     "output_type": "stream",
     "text": [
      "Using TensorFlow backend.\n"
     ]
    },
    {
     "name": "stdout",
     "output_type": "stream",
     "text": [
      "(60000, 784)\n",
      "(60000, 10)\n",
      "(10000, 784)\n",
      "(10000, 10)\n"
     ]
    }
   ],
   "source": [
    "import numpy as np\n",
    "import keras\n",
    "\n",
    "num_classes = 10\n",
    "\n",
    "# Preparing training and validation data\n",
    "train_images = []\n",
    "train_labels = []\n",
    "\n",
    "for i in range(0, len(training_data)):\n",
    "    train_images.append(training_data[i][1])\n",
    "    train_labels.append(training_data[i][0])\n",
    "\n",
    "# convert list to array\n",
    "train_images = np.asarray(train_images);\n",
    "train_labels = np.asarray(train_labels);\n",
    "\n",
    "# reshaping so we can match model's input size\n",
    "train_images = train_images.reshape(60000, 784)\n",
    "train_images = train_images.astype('float32') / 255\n",
    "train_labels = keras.utils.to_categorical(train_labels, num_classes)\n",
    "\n",
    "print(train_images.shape)\n",
    "print(train_labels.shape)\n",
    "\n",
    "validation_images = []\n",
    "validation_labels = []\n",
    "\n",
    "for i in range(0, len(testing_data)):\n",
    "    validation_images.append(testing_data[i][1])\n",
    "    validation_labels.append(testing_data[i][0])\n",
    "\n",
    "# convert list to array\n",
    "validation_images = np.asarray(validation_images);\n",
    "validation_labels = np.asarray(validation_labels);\n",
    "\n",
    "# reshaping so we can match model's input size\n",
    "validation_images = validation_images.reshape(10000, 784)\n",
    "validation_images = validation_images.astype('float32') / 255\n",
    "validation_labels = keras.utils.to_categorical(validation_labels, num_classes)\n",
    "\n",
    "print(validation_images.shape)\n",
    "print(validation_labels.shape)"
   ]
  },
  {
   "cell_type": "code",
   "execution_count": 19,
   "metadata": {},
   "outputs": [],
   "source": [
    "import keras\n",
    "\n",
    "from keras.models import Sequential\n",
    "from keras.layers import Dense, Dropout\n",
    "\n",
    "from keras.optimizers import RMSprop\n",
    "import matplotlib.pyplot as plt\n",
    "from numpy.random import seed\n",
    "\n",
    "def get_model(activation_function=None):\n",
    "\n",
    "    model = Sequential()\n",
    "    model.add(Dense(512, activation=activation_function, input_shape=(784,)))\n",
    "    model.add(Dense(10, activation='softmax'))\n",
    "\n",
    "    model.compile(loss='categorical_crossentropy',\n",
    "              optimizer=RMSprop(),\n",
    "              metrics=['accuracy'])\n",
    "\n",
    "    return model\n"
   ]
  },
  {
   "cell_type": "code",
   "execution_count": null,
   "metadata": {},
   "outputs": [
    {
     "name": "stdout",
     "output_type": "stream",
     "text": [
      "10000/10000 [==============================] - 0s 50us/step\n",
      "10000/10000 [==============================] - 1s 57us/step\n"
     ]
    }
   ],
   "source": [
    "import matplotlib.pyplot as plt\n",
    "import matplotlib as mpl\n",
    "\n",
    "# mpl.rcParams['savefig.dpi'] = 80\n",
    "# mpl.rcParams['figure.dpi'] = 80\n",
    "\n",
    "plt.rcParams['figure.figsize'] = [20, 25]\n",
    "\n",
    "models_under_test = {\n",
    "\"nofunction\": get_model(),\n",
    "\"sigmoid\": get_model(activation_function='sigmoid'),\n",
    "\"tanh\": get_model(activation_function='tanh'),\n",
    "\"relu\": get_model(activation_function='relu')\n",
    "}\n",
    "\n",
    "batch_size = 128\n",
    "epochs = 5\n",
    "\n",
    "fig = plt.figure()\n",
    "\n",
    "\n",
    "fig, axes = plt.subplots(4, 2)\n",
    "    \n",
    "counter = 0   \n",
    "\n",
    "for key in models_under_test:\n",
    "    model = models_under_test[key]\n",
    "    \n",
    "    history = model.fit(train_images, train_labels,\n",
    "                    batch_size=batch_size,\n",
    "                    epochs=epochs,\n",
    "                    verbose=0,\n",
    "                    validation_data=(validation_images, validation_labels)\n",
    "                   )\n",
    "\n",
    "    score = model.evaluate(validation_images, validation_labels)\n",
    "\n",
    "    axes[counter,0].set_title(\"%s - %s \" % (key, \"model loss\"),  fontsize=25)\n",
    "    axes[counter,1].set_title(\"%s - %s \" % (key, \"model acc\"),  fontsize=25)\n",
    "\n",
    "    axes[counter,0].plot(history.history['loss'])\n",
    "    axes[counter,0].plot(history.history['val_loss'])\n",
    "    axes[counter,0].set_ylabel('loss')\n",
    "    axes[counter,0].set_xlabel('epoch')\n",
    "    axes[counter,0].legend(['train', 'test'], loc='upper left')\n",
    "\n",
    "    axes[counter,1].plot(history.history['acc'])\n",
    "    axes[counter,1].plot(history.history['val_acc'])\n",
    "    axes[counter,1].set_ylabel('acc')\n",
    "    axes[counter,1].set_xlabel('epoch')\n",
    "    axes[counter,1].legend(['train', 'test'], loc='upper left')\n",
    "    \n",
    "    counter = counter + 1\n"
   ]
  }
 ],
 "metadata": {
  "kernelspec": {
   "display_name": "Python 3",
   "language": "python",
   "name": "python3"
  },
  "language_info": {
   "codemirror_mode": {
    "name": "ipython",
    "version": 3
   },
   "file_extension": ".py",
   "mimetype": "text/x-python",
   "name": "python",
   "nbconvert_exporter": "python",
   "pygments_lexer": "ipython3",
   "version": "3.6.7"
  }
 },
 "nbformat": 4,
 "nbformat_minor": 2
}
